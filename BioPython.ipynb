{
 "metadata": {
  "name": "",
  "signature": "sha256:e1038fd5b8ecb9bf6b4bf7961adebc87b91ce976f595081cc42ee7373ced78f2"
 },
 "nbformat": 3,
 "nbformat_minor": 0,
 "worksheets": [
  {
   "cells": [
    {
     "cell_type": "markdown",
     "metadata": {},
     "source": [
      "[BioPython](http://biopython.org/wiki/Main_Page) is a set of Python libraries for use in bioinformatics. The project has an excellent [tutorial](http://biopython.org/DIST/docs/tutorial/Tutorial.html).\n",
      "\n",
      "You can install BioPython into anaconda with the command:\n",
      "\n",
      "        conda install biopython\n",
      "\n",
      "One of the most commonly used parts of BioPython is the Bio.SeqIO module, used for reading and writing sequences. This has its own little [documentation page](http://biopython.org/wiki/SeqIO)."
     ]
    },
    {
     "cell_type": "code",
     "collapsed": false,
     "input": [],
     "language": "python",
     "metadata": {},
     "outputs": []
    }
   ],
   "metadata": {}
  }
 ]
}